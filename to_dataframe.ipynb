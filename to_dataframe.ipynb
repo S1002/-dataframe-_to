{
 "cells": [
  {
   "cell_type": "code",
   "execution_count": null,
   "id": "08aadd41",
   "metadata": {},
   "outputs": [],
   "source": [
    "import re, os\n",
    "from csv import DictWriter\n",
    "source = r'C:\\Users\\zz2840\\Documents\\ML\\work\\test\\txtx'\n",
    "field_names = ['file','value','count']\n",
    "dict={}\n",
    "count=0\n",
    "import re\n",
    "for root,subdirs,files in os.walk(source):\n",
    "    for file in files:\n",
    "        with open(os.path.join(root,file),encoding=\"utf8\") as f:\n",
    "            lines = f.read()\n",
    "            s = re.sub('\\s+', ' ', lines)\n",
    "            words = s.split()\n",
    "            dict = {\"file\": file, \"value\": s,\"count\": len(words)}\n",
    "            with open(r'C:\\Users\\zz2840\\Documents\\ML\\work\\test\\file_log.csv', 'a',encoding='utf-8', newline='') as f_object:\n",
    "                dictwriter_object = DictWriter(f_object, fieldnames=field_names)\n",
    "                dictwriter_object.writerow(dict)\n",
    "                f_object.close()"
   ]
  }
 ],
 "metadata": {
  "kernelspec": {
   "display_name": "Python 3",
   "language": "python",
   "name": "python3"
  },
  "language_info": {
   "codemirror_mode": {
    "name": "ipython",
    "version": 3
   },
   "file_extension": ".py",
   "mimetype": "text/x-python",
   "name": "python",
   "nbconvert_exporter": "python",
   "pygments_lexer": "ipython3",
   "version": "3.6.13"
  }
 },
 "nbformat": 4,
 "nbformat_minor": 5
}
